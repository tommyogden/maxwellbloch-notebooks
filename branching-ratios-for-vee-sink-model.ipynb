{
 "cells": [
  {
   "cell_type": "markdown",
   "metadata": {},
   "source": [
    "# Branching Ratios for V-type Sink Model"
   ]
  },
  {
   "cell_type": "markdown",
   "metadata": {},
   "source": [
    "From §5.3.2 in my thesis:\n",
    "\n",
    "<blockquote>\n",
    "Firstly the matrix elements can be factored such that the dependence on the\n",
    "$m_F$ and $m_F'$ quantum numbers is entirely within a Wigner 3-j factor, via\n",
    "the expression\n",
    "\n",
    "$$\n",
    "\\begin{align}\n",
    "  \\langle F m_F | d_q | F' m'_F \\rangle &= \n",
    "  \\langle F  \\| e \\mathbf{r} \\| F' \\rangle \\nonumber \\\\\n",
    "  &\\times (-1)^{F' - 1 + m_F} \\sqrt{2F + 1}\n",
    "  \\begin{pmatrix}\n",
    "    F' & 1 & F \\\\\n",
    "    m_F' & q & -m_F \n",
    "  \\end{pmatrix}\n",
    "  \\tag{1}\n",
    "\\end{align}\n",
    "$$\n",
    "\n",
    "where $\\langle F  \\| e \\mathbf{r} \\| F' \\rangle$ is now the reduced\n",
    "hyperfine dipole matrix element.\n",
    "\n",
    "$$\n",
    "\\begin{align}\n",
    "  \\langle F  \\| e \\mathbf{r} \\| F' \\rangle =\n",
    "  &\\langle J  \\| e \\mathbf{r} \\| J' \\rangle \\nonumber \\\\\n",
    "  &\\times (-1)^{F' + J + 1 + I}\n",
    "  \\sqrt{(2F' + 1)(2J + 1)}\n",
    "        \\begin{Bmatrix}\n",
    "    J & J' & 1 \\\\\n",
    "    F' & F & I \n",
    "  \\end{Bmatrix}\n",
    "  \\tag{2}\n",
    "\\end{align}\n",
    "$$\n",
    "</blockquote>"
   ]
  },
  {
   "cell_type": "markdown",
   "metadata": {},
   "source": [
    "I wrote the method `ang_mom.calc_clebsch_hf` in the package to calculate the hyperfine factors (i.e. $c$ where $\\langle F m_F | d_q | F' m'_F \\rangle = \\langle J  \\| e \\mathbf{r} \\| J' \\rangle \\times c$). These are the same listed in tables 9-20 in Steck's Rubidium 87 data.\n",
    "\n",
    "The method is documented below:"
   ]
  },
  {
   "cell_type": "code",
   "execution_count": 127,
   "metadata": {
    "collapsed": false
   },
   "outputs": [
    {
     "name": "stdout",
     "output_type": "stream",
     "text": [
      "Help on function calc_clebsch_hf in module opticalbloch.ang_mom:\n",
      "\n",
      "calc_clebsch_hf(J_a, I_a, F_a, mF_a, J_b, I_b, F_b, mF_b, q)\n",
      "    Clebsch-Gordan coefficient for the hyperfine transition dipole matrix\n",
      "    element\n",
      "\n"
     ]
    }
   ],
   "source": [
    "from opticalbloch import ang_mom\n",
    "from math import sqrt\n",
    "\n",
    "help(ang_mom.calc_clebsch_hf)"
   ]
  },
  {
   "cell_type": "markdown",
   "metadata": {},
   "source": [
    "## Factors for $5S_{1/2} \\rightarrow 5P_{1/2}$\n",
    "\n",
    "Let's try a randomly picked example. Steck's Table 16, gives the factor for $|{F=2, m_F=0}\\rangle \\rightarrow | F'=1, m'_F=0 \\rangle $ as $1/\\sqrt{3}$. (In the method I use `a` to index the lower state and `b` to index the upper state.)"
   ]
  },
  {
   "cell_type": "code",
   "execution_count": 129,
   "metadata": {
    "collapsed": false
   },
   "outputs": [],
   "source": [
    "hf_factor = ang_mom.calc_clebsch_hf(J_a=1/2.,\n",
    "                                    I_a=3/2., # Rubidium 87 nuclear spin\n",
    "                                    F_a=2., \n",
    "                                    mF_a=0., \n",
    "                                    J_b=1/2., \n",
    "                                    I_b=3/2., \n",
    "                                    F_b=1., \n",
    "                                    mF_b=0., \n",
    "                                    q=0.)"
   ]
  },
  {
   "cell_type": "code",
   "execution_count": 132,
   "metadata": {
    "collapsed": false
   },
   "outputs": [
    {
     "name": "stdout",
     "output_type": "stream",
     "text": [
      "0.57735026919\n",
      "0.57735026919\n"
     ]
    }
   ],
   "source": [
    "print(hf_factor)\n",
    "print(1/sqrt(3.))"
   ]
  },
  {
   "cell_type": "markdown",
   "metadata": {},
   "source": [
    "Another example. Steck's Table 15, gives the factor for $|{F=2, m_F=-1}\\rangle \\rightarrow | F'=2, m_F'=0 \\rangle $ as $1/\\sqrt{4}$."
   ]
  },
  {
   "cell_type": "code",
   "execution_count": 26,
   "metadata": {
    "collapsed": false
   },
   "outputs": [
    {
     "name": "stdout",
     "output_type": "stream",
     "text": [
      "0.5\n",
      "0.5\n"
     ]
    }
   ],
   "source": [
    "hf_factor = ang_mom.calc_clebsch_hf(J_a=1/2.,\n",
    "                                    I_a=3/2., # Rubidium 87 nuclear spin\n",
    "                                    F_a=2., \n",
    "                                    mF_a=-1., \n",
    "                                    J_b=1/2., \n",
    "                                    I_b=3/2., \n",
    "                                    F_b=2., \n",
    "                                    mF_b=0., \n",
    "                                    q=-1.)\n",
    "\n",
    "print(hf_factor)\n",
    "print(1/sqrt(4.))"
   ]
  },
  {
   "cell_type": "markdown",
   "metadata": {},
   "source": [
    "Feel free to check further factors!\n",
    "\n",
    "Now, as my $I$s and $J$s are always the same, I'll make a lambda function that only requires the parameters: `F_a, mF_a, F_b, mF_b, q`, just to cut clutter."
   ]
  },
  {
   "cell_type": "code",
   "execution_count": 136,
   "metadata": {
    "collapsed": false
   },
   "outputs": [],
   "source": [
    "cg_hf = lambda F_a, mF_a, F_b, mF_b, q: ang_mom.calc_clebsch_hf(1/2., 3/2., F_a, \n",
    "                                                                mF_a, 1/2., 3/2., \n",
    "                                                                F_b, mF_b, q)"
   ]
  },
  {
   "cell_type": "markdown",
   "metadata": {},
   "source": [
    "Same two checks as above:"
   ]
  },
  {
   "cell_type": "code",
   "execution_count": 139,
   "metadata": {
    "collapsed": false
   },
   "outputs": [
    {
     "name": "stdout",
     "output_type": "stream",
     "text": [
      "0.57735026919\n",
      "0.5\n"
     ]
    }
   ],
   "source": [
    "print(cg_hf(2., 0., 1., 0, 0.))\n",
    "print(cg_hf(2., -1., 2., 0, -1.))"
   ]
  },
  {
   "cell_type": "markdown",
   "metadata": {},
   "source": [
    "Now, let's write a function to take any upper $F', m'_F$ level and sum up all the factors coupled to it:"
   ]
  },
  {
   "cell_type": "code",
   "execution_count": 140,
   "metadata": {
    "collapsed": false
   },
   "outputs": [],
   "source": [
    "def sum_to_upper(F_b, mF_b, log=False):\n",
    "    sum_cg_hf = 0.\n",
    "    for q in [-1., 0., 1]:\n",
    "        for F_a in [1., 2.]:\n",
    "            for mF_a in [-2., -1., 0., 1., 2.]:\n",
    "                c = cg_hf(F_a, mF_a, F_b, mF_b, q)\n",
    "                if log == True and c != 0:\n",
    "                    print q, F_a, mF_a, cg_hf(F_a, mF_a, F_b, mF_b, q)\n",
    "                sum_cg_hf += cg_hf(F_a, mF_a, F_b, mF_b, q)**2\n",
    "    return sum_cg_hf"
   ]
  },
  {
   "cell_type": "markdown",
   "metadata": {},
   "source": [
    "Eqn 40 in Steck tells us that \n",
    "\n",
    "> the matrix elements that couple to any single excited state sublevel $|F' m'_F \\rangle$ add up to a factor that is independent of the particular sublevel chosen.\n",
    "\n",
    "and that the result should be $(2J + 1)/(2J' + 1)$.\n",
    "\n",
    "If I pick say, $|F'=1 m'_F=0 \\rangle$, I expect there to be 5 non-zero couplings (from the selection rules)"
   ]
  },
  {
   "cell_type": "code",
   "execution_count": 148,
   "metadata": {
    "collapsed": false
   },
   "outputs": [
    {
     "name": "stdout",
     "output_type": "stream",
     "text": [
      "-1.0 1.0 -1.0 -0.288675134595\n",
      "-1.0 2.0 -1.0 0.5\n",
      "0.0 2.0 0.0 0.57735026919\n",
      "1 1.0 1.0 0.288675134595\n",
      "1 2.0 1.0 0.5\n",
      "Sum F_b=1., mF_b=0.: 1.0\n"
     ]
    }
   ],
   "source": [
    "print(\"Sum F_b=1., mF_b=0.: {0}\".format(sum_to_upper(F_b=1., mF_b = 0., log=True)))  "
   ]
  },
  {
   "cell_type": "markdown",
   "metadata": {},
   "source": [
    "and sure enough there are, and they sum to $(2J + 1)/(2J' + 1) = 1$. Good. Now we can check this is the case for _all_ upper sublevels."
   ]
  },
  {
   "cell_type": "code",
   "execution_count": 149,
   "metadata": {
    "collapsed": false
   },
   "outputs": [
    {
     "name": "stdout",
     "output_type": "stream",
     "text": [
      "Sum F_b=1.0, mF_b=-2.0: 0.0\n",
      "Sum F_b=1.0, mF_b=-1.0: 1.0\n",
      "Sum F_b=1.0, mF_b=0.0: 1.0\n",
      "Sum F_b=1.0, mF_b=1.0: 1.0\n",
      "Sum F_b=1.0, mF_b=2.0: 0.0\n",
      "Sum F_b=2.0, mF_b=-2.0: 1.0\n",
      "Sum F_b=2.0, mF_b=-1.0: 1.0\n",
      "Sum F_b=2.0, mF_b=0.0: 1.0\n",
      "Sum F_b=2.0, mF_b=1.0: 1.0\n",
      "Sum F_b=2.0, mF_b=2.0: 1.0\n"
     ]
    }
   ],
   "source": [
    "for F_b in [1., 2.]:\n",
    "    for mF_b in [-2., -1., 0., 1., 2.]:\n",
    "        print(\"Sum F_b={0}, mF_b={1}: {2}\".format(F_b, mF_b, sum_to_upper(F_b, mF_b)))  "
   ]
  },
  {
   "cell_type": "markdown",
   "metadata": {},
   "source": [
    "We see the symmetry. So this verifies Steck Eqn 40 for our case."
   ]
  },
  {
   "cell_type": "markdown",
   "metadata": {},
   "source": [
    "### Summing the branching ratios to a given upper F', m_F'\n",
    "\n",
    "Eqn 41 in Steck gives us the $S_{FF'}$ strength factors,\n",
    "\n",
    "> summing the matrix elements from a single ground-state sublevel to the levels in a particular F′ energy level\n",
    "\n",
    "which is \n",
    "\n",
    "> independent of the particular ground state sublevel chosen.\n",
    "\n",
    "For our purpose of having a single upper state representing the two $F'$ levels with the correct branching to two $F$ lower levels, **we want the converse**: the sum of the matrix elements **to** a single upper-state sublevel **from** all sublevels in a given $F$ lower level.\n",
    "\n",
    "Let's write a function to get that:"
   ]
  },
  {
   "cell_type": "code",
   "execution_count": 151,
   "metadata": {
    "collapsed": true
   },
   "outputs": [],
   "source": [
    "def sum_to_upper_from_F(F_a, F_b, mF_b, log=False):\n",
    "    sum_cg_hf = 0.\n",
    "    for q in [-1., 0., 1]:\n",
    "        for mF_a in [-2., -1., 0., 1., 2.]:\n",
    "            c = cg_hf(F_a, mF_a, F_b, mF_b, q)\n",
    "            if log == True and c != 0:\n",
    "                print q, F_a, mF_a, cg_hf(F_a, mF_a, F_b, mF_b, q)\n",
    "            sum_cg_hf += cg_hf(F_a, mF_a, F_b, mF_b, q)**2\n",
    "    return sum_cg_hf"
   ]
  },
  {
   "cell_type": "markdown",
   "metadata": {},
   "source": [
    "We'll test it for $F = 1 \\rightarrow F'=1, m'_F=0$."
   ]
  },
  {
   "cell_type": "code",
   "execution_count": 154,
   "metadata": {
    "collapsed": false
   },
   "outputs": [
    {
     "name": "stdout",
     "output_type": "stream",
     "text": [
      "-1.0 1.0 -1.0 -0.288675134595\n",
      "1 1.0 1.0 0.288675134595\n",
      "Sum F_a=1., F_b=1., mF_b=0.: 0.166666666667\n"
     ]
    }
   ],
   "source": [
    "print(\"Sum F_a=1., F_b=1., mF_b=0.: {0}\".format(sum_to_upper_from_F(F_a=1., \n",
    "                                                                    F_b=1., \n",
    "                                                                    mF_b = 0.,\n",
    "                                                                    log=True)))  "
   ]
  },
  {
   "cell_type": "markdown",
   "metadata": {},
   "source": [
    "which is 1/6."
   ]
  },
  {
   "cell_type": "code",
   "execution_count": 156,
   "metadata": {
    "collapsed": false
   },
   "outputs": [
    {
     "name": "stdout",
     "output_type": "stream",
     "text": [
      "0.166666666667\n"
     ]
    }
   ],
   "source": [
    "print(1/6.)"
   ]
  },
  {
   "cell_type": "markdown",
   "metadata": {},
   "source": [
    "Now let's try it for each of the upper $F'=1, m'_F$ states from $F=1$:"
   ]
  },
  {
   "cell_type": "code",
   "execution_count": 158,
   "metadata": {
    "collapsed": false
   },
   "outputs": [
    {
     "name": "stdout",
     "output_type": "stream",
     "text": [
      "Sum F_a=1.0, F_b=1.0, mF_b=-2.0: 0.0\n",
      "Sum F_a=1.0, F_b=1.0, mF_b=-1.0: 0.166666666667\n",
      "Sum F_a=1.0, F_b=1.0, mF_b=0.0: 0.166666666667\n",
      "Sum F_a=1.0, F_b=1.0, mF_b=1.0: 0.166666666667\n",
      "Sum F_a=1.0, F_b=1.0, mF_b=2.0: 0.0\n"
     ]
    }
   ],
   "source": [
    "F_a=1.\n",
    "F_b=1.\n",
    "\n",
    "for mF_b in [-2., -1., 0., 1., 2.]:\n",
    "    print(\"Sum F_a={0}, F_b={1}, mF_b={2}: {3}\".format(F_a, F_b, mF_b, \n",
    "                                                       sum_to_upper_from_F(F_a, F_b, mF_b)))  "
   ]
  },
  {
   "cell_type": "markdown",
   "metadata": {},
   "source": [
    "And we see a similar symmetry. **The coupling to a given upper state is independent of the particular upper state sublevel chosen.**\n",
    "\n",
    "Let's try for $F = 1 \\rightarrow F' = 2$."
   ]
  },
  {
   "cell_type": "code",
   "execution_count": 159,
   "metadata": {
    "collapsed": false
   },
   "outputs": [
    {
     "name": "stdout",
     "output_type": "stream",
     "text": [
      "Sum F_a=1.0, F_b=2.0, mF_b=-2.0: 0.5\n",
      "Sum F_a=1.0, F_b=2.0, mF_b=-1.0: 0.5\n",
      "Sum F_a=1.0, F_b=2.0, mF_b=0.0: 0.5\n",
      "Sum F_a=1.0, F_b=2.0, mF_b=1.0: 0.5\n",
      "Sum F_a=1.0, F_b=2.0, mF_b=2.0: 0.5\n"
     ]
    }
   ],
   "source": [
    "F_a=1.\n",
    "F_b=2.\n",
    "\n",
    "for mF_b in [-2., -1., 0., 1., 2.]:\n",
    "    print(\"Sum F_a={0}, F_b={1}, mF_b={2}: {3}\".format(F_a, F_b, mF_b, \n",
    "                                                       sum_to_upper_from_F(F_a, F_b, mF_b))) "
   ]
  },
  {
   "cell_type": "markdown",
   "metadata": {},
   "source": [
    "And for completeness, $F = 2 \\rightarrow F' = 1$..."
   ]
  },
  {
   "cell_type": "code",
   "execution_count": 162,
   "metadata": {
    "collapsed": false
   },
   "outputs": [
    {
     "name": "stdout",
     "output_type": "stream",
     "text": [
      "Sum F_a=2.0, F_b=1.0, mF_b=-2.0: 0.0\n",
      "Sum F_a=2.0, F_b=1.0, mF_b=-1.0: 0.833333333333\n",
      "Sum F_a=2.0, F_b=1.0, mF_b=0.0: 0.833333333333\n",
      "Sum F_a=2.0, F_b=1.0, mF_b=1.0: 0.833333333333\n",
      "Sum F_a=2.0, F_b=1.0, mF_b=2.0: 0.0\n"
     ]
    }
   ],
   "source": [
    "F_a=2.\n",
    "F_b=1.\n",
    "\n",
    "for mF_b in [-2., -1., 0., 1., 2.]:\n",
    "    print(\"Sum F_a={0}, F_b={1}, mF_b={2}: {3}\".format(F_a, F_b, mF_b, \n",
    "                                                       sum_to_upper_from_F(F_a, F_b, mF_b))) "
   ]
  },
  {
   "cell_type": "markdown",
   "metadata": {},
   "source": [
    "and $F = 2 \\rightarrow F' = 2$."
   ]
  },
  {
   "cell_type": "code",
   "execution_count": 163,
   "metadata": {
    "collapsed": false
   },
   "outputs": [
    {
     "name": "stdout",
     "output_type": "stream",
     "text": [
      "Sum F_a=2.0, F_b=2.0, mF_b=-2.0: 0.5\n",
      "Sum F_a=2.0, F_b=2.0, mF_b=-1.0: 0.5\n",
      "Sum F_a=2.0, F_b=2.0, mF_b=0.0: 0.5\n",
      "Sum F_a=2.0, F_b=2.0, mF_b=1.0: 0.5\n",
      "Sum F_a=2.0, F_b=2.0, mF_b=2.0: 0.5\n"
     ]
    }
   ],
   "source": [
    "F_a=2.\n",
    "F_b=2.\n",
    "\n",
    "for mF_b in [-2., -1., 0., 1., 2.]:\n",
    "    print(\"Sum F_a={0}, F_b={1}, mF_b={2}: {3}\".format(F_a, F_b, mF_b, \n",
    "                                                       sum_to_upper_from_F(F_a, F_b, mF_b))) "
   ]
  },
  {
   "cell_type": "markdown",
   "metadata": {},
   "source": [
    "Now notice that if we call these branching factors $T_{FF'}$, we have $T_{FF'} = S_{F'F}$ (i.e. compare the results above with Steck Table 8.)\n",
    "\n",
    "| |  |\n",
    "| --- | --- |\n",
    "| $T_{11}$ = 1/6 | $T_{12}$ = 1/2 |\n",
    "| $T_{21}$ = 5/6 | $T_{22}$ = 1/2 |\n",
    "\n",
    "The reason for this will be in changing Eqn 41 for our purpose (I suspect changing the sign of $q$ is necessary?)\n",
    "\n",
    "Now what we want is the sum of the branching ratios from $F = 1$ which is \n",
    "\n",
    "$$\n",
    "(T_{11} + T_{12})/(2J' + 1) = (1/6 + 1/2)/2 = 1/3\n",
    "$$\n",
    "\n",
    "and the sum of the branching ratios from $F = 2$ which is \n",
    "\n",
    "$$\n",
    "(T_{21} + T_{22})/(2J' + 1) = (5/6 + 1/2) = 2/3\n",
    "$$\n",
    "\n",
    "These sum to 1, which we would expect form branching ratios."
   ]
  },
  {
   "cell_type": "markdown",
   "metadata": {},
   "source": [
    "We can make the same checks with $5S_{1/2} \\rightarrow 5P_{3/2}$, remembering that we will then have a different value for $1/(2J' + 1) = 1/4$.\n",
    "                                                                                                                                "
   ]
  }
 ],
 "metadata": {
  "kernelspec": {
   "display_name": "Python 2",
   "language": "python",
   "name": "python2"
  },
  "language_info": {
   "codemirror_mode": {
    "name": "ipython",
    "version": 2
   },
   "file_extension": ".py",
   "mimetype": "text/x-python",
   "name": "python",
   "nbconvert_exporter": "python",
   "pygments_lexer": "ipython2",
   "version": "2.7.11"
  }
 },
 "nbformat": 4,
 "nbformat_minor": 0
}
